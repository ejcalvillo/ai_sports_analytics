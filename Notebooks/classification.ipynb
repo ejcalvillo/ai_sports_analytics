{
 "cells": [
  {
   "cell_type": "code",
   "execution_count": 16,
   "id": "057e6161",
   "metadata": {},
   "outputs": [],
   "source": [
    "import pandas as pd\n",
    "from sklearn.model_selection import train_test_split\n",
    "\n",
    "data = pd.read_csv('../data/pl_clean.csv')\n",
    "\n",
    "cutoff = '2024-07-01'  # example\n",
    "train = data[data['date'] < cutoff]\n",
    "test  = data[data['date'] >= cutoff]\n",
    "\n",
    "X_train = train.drop(columns=['result', 'date'], axis=1)\n",
    "y_train = train['result']\n",
    "X_test  = test.drop(columns=['result', 'date'], axis=1)\n",
    "y_test  = test['result']\n"
   ]
  },
  {
   "cell_type": "code",
   "execution_count": 17,
   "id": "f23aca7a",
   "metadata": {},
   "outputs": [
    {
     "name": "stdout",
     "output_type": "stream",
     "text": [
      "[[  7  57  47]\n",
      " [ 12 102  64]\n",
      " [  9  76  76]]\n",
      "              precision    recall  f1-score   support\n",
      "\n",
      "        Draw       0.25      0.06      0.10       111\n",
      "        Loss       0.43      0.57      0.49       178\n",
      "         Win       0.41      0.47      0.44       161\n",
      "\n",
      "    accuracy                           0.41       450\n",
      "   macro avg       0.36      0.37      0.34       450\n",
      "weighted avg       0.38      0.41      0.38       450\n",
      "\n"
     ]
    }
   ],
   "source": [
    "from sklearn.ensemble import RandomForestClassifier\n",
    "from sklearn.metrics import classification_report, confusion_matrix\n",
    "\n",
    "rf = RandomForestClassifier(n_estimators=100, random_state=42, class_weight='balanced')\n",
    "rf.fit(X_train, y_train)\n",
    "\n",
    "y_pred = rf.predict(X_test)\n",
    "\n",
    "print(confusion_matrix(y_test, y_pred))\n",
    "print(classification_report(y_test, y_pred, target_names=['Draw', 'Loss', 'Win']))"
   ]
  }
 ],
 "metadata": {
  "kernelspec": {
   "display_name": "datascience",
   "language": "python",
   "name": "python3"
  },
  "language_info": {
   "codemirror_mode": {
    "name": "ipython",
    "version": 3
   },
   "file_extension": ".py",
   "mimetype": "text/x-python",
   "name": "python",
   "nbconvert_exporter": "python",
   "pygments_lexer": "ipython3",
   "version": "3.13.7"
  }
 },
 "nbformat": 4,
 "nbformat_minor": 5
}
